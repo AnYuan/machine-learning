{
 "cells": [
  {
   "cell_type": "markdown",
   "metadata": {},
   "source": [
    "# Deep Q-Learning - Lunar Lander\n",
    "\n",
    "In this assignment, you will train an agent to land a lunar lander safely on a landing pad on the surface of the moon.\n",
    "\n",
    "\n",
    "# Outline\n",
    "- [ 1 - Import Packages <img align=\"Right\" src=\"./images/lunar_lander.gif\" width = 60% >](#1)\n",
    "- [ 2 - Hyperparameters](#2)\n",
    "- [ 3 - The Lunar Lander Environment](#3)\n",
    "  - [ 3.1 Action Space](#3.1)\n",
    "  - [ 3.2 Observation Space](#3.2)\n",
    "  - [ 3.3 Rewards](#3.3)\n",
    "  - [ 3.4 Episode Termination](#3.4)\n",
    "- [ 4 - Load the Environment](#4)\n",
    "- [ 5 - Interacting with the Gym Environment](#5)\n",
    "    - [ 5.1 Exploring the Environment's Dynamics](#5.1)\n",
    "- [ 6 - Deep Q-Learning](#6)\n",
    "  - [ 6.1 Target Network](#6.1)\n",
    "    - [ Exercise 1](#ex01)\n",
    "  - [ 6.2 Experience Replay](#6.2)\n",
    "- [ 7 - Deep Q-Learning Algorithm with Experience Replay](#7)\n",
    "  - [ Exercise 2](#ex02)\n",
    "- [ 8 - Update the Network Weights](#8)\n",
    "- [ 9 - Train the Agent](#9)\n",
    "- [ 10 - See the Trained Agent In Action](#10)\n",
    "- [ 11 - Congratulations!](#11)\n",
    "- [ 12 - References](#12)\n"
   ]
  },
  {
   "cell_type": "markdown",
   "metadata": {},
   "source": [
    "_**NOTE:** To prevent errors from the autograder, you are not allowed to edit or delete non-graded cells in this lab. Please also refrain from adding any new cells. \n",
    "**Once you have passed this assignment** and want to experiment with any of the non-graded code, you may follow the instructions at the bottom of this notebook._"
   ]
  },
  {
   "cell_type": "markdown",
   "metadata": {},
   "source": [
    "<a name=\"1\"></a>\n",
    "## 1 - Import Packages\n",
    "\n",
    "We'll make use of the following packages:\n",
    "- `numpy` is a package for scientific computing in python.\n",
    "- `deque` will be our data structure for our memory buffer.\n",
    "- `namedtuple` will be used to store the experience tuples.\n",
    "- The `gym` toolkit is a collection of environments that can be used to test reinforcement learning algorithms. We should note that in this notebook we are using `gym` version `0.24.0`.\n",
    "- `PIL.Image` and `pyvirtualdisplay` are needed to render the Lunar Lander environment.\n",
    "- We will use several modules from the `tensorflow.keras` framework for building deep learning models.\n",
    "- `utils` is a module that contains helper functions for this assignment. You do not need to modify the code in this file.\n",
    "\n",
    "Run the cell below to import all the necessary packages."
   ]
  },
  {
   "cell_type": "code",
   "execution_count": 1,
   "metadata": {
    "deletable": false,
    "editable": false,
    "id": "KYbOPKRtfQOr"
   },
   "outputs": [],
   "source": [
    "import time\n",
    "from collections import deque, namedtuple\n",
    "\n",
    "import gym\n",
    "import numpy as np\n",
    "import PIL.Image\n",
    "import tensorflow as tf\n",
    "import utils\n",
    "\n",
    "from pyvirtualdisplay import Display\n",
    "from tensorflow.keras import Sequential\n",
    "from tensorflow.keras.layers import Dense, Input\n",
    "from tensorflow.keras.losses import MSE\n",
    "from tensorflow.keras.optimizers import Adam"
   ]
  },
  {
   "cell_type": "code",
   "execution_count": 2,
   "metadata": {
    "deletable": false,
    "editable": false
   },
   "outputs": [],
   "source": [
    "# Set up a virtual display to render the Lunar Lander environment.\n",
    "Display(visible=0, size=(840, 480)).start();\n",
    "\n",
    "# Set the random seed for TensorFlow\n",
    "tf.random.set_seed(utils.SEED)"
   ]
  },
  {
   "cell_type": "markdown",
   "metadata": {},
   "source": [
    "<a name=\"2\"></a>\n",
    "## 2 - Hyperparameters\n",
    "\n",
    "Run the cell below to set the hyperparameters."
   ]
  },
  {
   "cell_type": "code",
   "execution_count": 3,
   "metadata": {
    "deletable": false,
    "editable": false
   },
   "outputs": [],
   "source": [
    "MEMORY_SIZE = 100_000     # size of memory buffer\n",
    "GAMMA = 0.995             # discount factor\n",
    "ALPHA = 1e-3              # learning rate  \n",
    "NUM_STEPS_FOR_UPDATE = 4  # perform a learning update every C time steps"
   ]
  },
  {
   "cell_type": "markdown",
   "metadata": {},
   "source": [
    "<a name=\"3\"></a>\n",
    "## 3 - The Lunar Lander Environment\n",
    "\n",
    "In this notebook we will be using [OpenAI's Gym Library](https://www.gymlibrary.dev/). The Gym library provides a wide variety of environments for reinforcement learning. To put it simply, an environment represents a problem or task to be solved. In this notebook, we will try to solve the Lunar Lander environment using reinforcement learning.\n",
    "\n",
    "The goal of the Lunar Lander environment is to land the lunar lander safely on the landing pad on the surface of the moon. The landing pad is designated by two flag poles and its center is at coordinates `(0,0)` but the lander is also allowed to land outside of the landing pad. The lander starts at the top center of the environment with a random initial force applied to its center of mass and has infinite fuel. The environment is considered solved if you get `200` points. \n",
    "\n",
    "<br>\n",
    "<br>\n",
    "<figure>\n",
    "  <img src = \"images/lunar_lander.gif\" width = 40%>\n",
    "      <figcaption style = \"text-align: center; font-style: italic\">Fig 1. Lunar Lander Environment.</figcaption>\n",
    "</figure>\n",
    "\n",
    "\n",
    "\n",
    "<a name=\"3.1\"></a>\n",
    "### 3.1 Action Space\n",
    "\n",
    "The agent has four discrete actions available:\n",
    "\n",
    "* Do nothing.\n",
    "* Fire right engine.\n",
    "* Fire main engine.\n",
    "* Fire left engine.\n",
    "\n",
    "Each action has a corresponding numerical value:\n",
    "\n",
    "```python\n",
    "Do nothing = 0\n",
    "Fire right engine = 1\n",
    "Fire main engine = 2\n",
    "Fire left engine = 3\n",
    "```\n",
    "\n",
    "<a name=\"3.2\"></a>\n",
    "### 3.2 Observation Space\n",
    "\n",
    "The agent's observation space consists of a state vector with 8 variables:\n",
    "\n",
    "* Its $(x,y)$ coordinates. The landing pad is always at coordinates $(0,0)$.\n",
    "* Its linear velocities $(\\dot x,\\dot y)$.\n",
    "* Its angle $\\theta$.\n",
    "* Its angular velocity $\\dot \\theta$.\n",
    "* Two booleans, $l$ and $r$, that represent whether each leg is in contact with the ground or not.\n",
    "\n",
    "<a name=\"3.3\"></a>\n",
    "### 3.3 Rewards\n",
    "\n",
    "After every step, a reward is granted. The total reward of an episode is the sum of the rewards for all the steps within that episode.\n",
    "\n",
    "For each step, the reward:\n",
    "- is increased/decreased the closer/further the lander is to the landing pad.\n",
    "- is increased/decreased the slower/faster the lander is moving.\n",
    "- is decreased the more the lander is tilted (angle not horizontal).\n",
    "- is increased by 10 points for each leg that is in contact with the ground.\n",
    "- is decreased by 0.03 points each frame a side engine is firing.\n",
    "- is decreased by 0.3 points each frame the main engine is firing.\n",
    "\n",
    "The episode receive an additional reward of -100 or +100 points for crashing or landing safely respectively.\n",
    "\n",
    "<a name=\"3.4\"></a>\n",
    "### 3.4 Episode Termination\n",
    "\n",
    "An episode ends (i.e the environment enters a terminal state) if:\n",
    "\n",
    "* The lunar lander crashes (i.e if the body of the lunar lander comes in contact with the surface of the moon).\n",
    "\n",
    "* The absolute value of the lander's $x$-coordinate is greater than 1 (i.e. it goes beyond the left or right border)\n",
    "\n",
    "You can check out the [Open AI Gym documentation](https://www.gymlibrary.dev/environments/box2d/lunar_lander/) for a full description of the environment. "
   ]
  },
  {
   "cell_type": "markdown",
   "metadata": {},
   "source": [
    "<a name=\"4\"></a>\n",
    "## 4 - Load the Environment\n",
    "\n",
    "We start by loading the `LunarLander-v2` environment from the `gym` library by using the `.make()` method. `LunarLander-v2` is the latest version of the Lunar Lander environment and you can read about its version history in the [Open AI Gym documentation](https://www.gymlibrary.dev/environments/box2d/lunar_lander/#version-history)."
   ]
  },
  {
   "cell_type": "code",
   "execution_count": 4,
   "metadata": {
    "deletable": false,
    "editable": false,
    "id": "ILVMYKewfR0n"
   },
   "outputs": [],
   "source": [
    "env = gym.make('LunarLander-v2')"
   ]
  },
  {
   "cell_type": "markdown",
   "metadata": {},
   "source": [
    "Once we load the environment we use the `.reset()` method to reset the environment to the initial state. The lander starts at the top center of the environment and we can render the first frame of the environment by using the `.render()` method."
   ]
  },
  {
   "cell_type": "code",
   "execution_count": 5,
   "metadata": {
    "deletable": false,
    "editable": false
   },
   "outputs": [
    {
     "data": {
      "image/png": "[encoded data removed]",
      "text/plain": [
       "<PIL.Image.Image image mode=RGB size=600x400 at 0x7F4FE112A710>"
      ]
     },
     "execution_count": 5,
     "metadata": {},
     "output_type": "execute_result"
    }
   ],
   "source": [
    "env.reset()\n",
    "PIL.Image.fromarray(env.render(mode='rgb_array'))"
   ]
  },
  {
   "cell_type": "markdown",
   "metadata": {},
   "source": [
    "In order to build our neural network later on we need to know the size of the state vector and the number of valid actions. We can get this information from our environment by using the `.observation_space.shape` and `action_space.n` methods, respectively."
   ]
  },
  {
   "cell_type": "code",
   "execution_count": 6,
   "metadata": {
    "deletable": false,
    "editable": false,
    "id": "x3fdqdG4CUu2"
   },
   "outputs": [
    {
     "name": "stdout",
     "output_type": "stream",
     "text": [
      "State Shape: (8,)\n",
      "Number of actions: 4\n"
     ]
    }
   ],
   "source": [
    "state_size = env.observation_space.shape\n",
    "num_actions = env.action_space.n\n",
    "\n",
    "print('State Shape:', state_size)\n",
    "print('Number of actions:', num_actions)"
   ]
  },
  {
   "cell_type": "markdown",
   "metadata": {},
   "source": [
    "<a name=\"5\"></a>\n",
    "## 5 - Interacting with the Gym Environment\n",
    "\n",
    "The Gym library implements the standard “agent-environment loop” formalism:\n",
    "\n",
    "<br>\n",
    "<center>\n",
    "<video src = \"./videos/rl_formalism.m4v\" width=\"840\" height=\"480\" controls autoplay loop poster=\"./images/rl_formalism.png\"> </video>\n",
    "<figcaption style = \"text-align:center; font-style:italic\">Fig 2. Agent-environment Loop Formalism.</figcaption>\n",
    "</center>\n",
    "<br>\n",
    "\n",
    "In the standard “agent-environment loop” formalism, an agent interacts with the environment in discrete time steps $t=0,1,2,...$. At each time step $t$, the agent uses a policy $\\pi$ to select an action $A_t$ based on its observation of the environment's state $S_t$. The agent receives a numerical reward $R_t$ and on the next time step, moves to a new state $S_{t+1}$.\n",
    "\n",
    "<a name=\"5.1\"></a>\n",
    "### 5.1 Exploring the Environment's Dynamics\n",
    "\n",
    "In Open AI's Gym environments, we use the `.step()` method to run a single time step of the environment's dynamics. In the version of `gym` that we are using the `.step()` method accepts an action and returns four values:\n",
    "\n",
    "* `observation` (**object**): an environment-specific object representing your observation of the environment. In the Lunar Lander environment this corresponds to a numpy array containing the positions and velocities of the lander as described in section [3.2 Observation Space](#3.2).\n",
    "\n",
    "\n",
    "* `reward` (**float**): amount of reward returned as a result of taking the given action. In the Lunar Lander environment this corresponds to a float of type `numpy.float64` as described in section [3.3 Rewards](#3.3).\n",
    "\n",
    "\n",
    "* `done` (**boolean**): When done is `True`, it indicates the episode has terminated and it’s time to reset the environment. \n",
    "\n",
    "\n",
    "* `info` (**dictionary**): diagnostic information useful for debugging. We won't be using this variable in this notebook but it is shown here for completeness.\n",
    "\n",
    "To begin an episode, we need to reset the environment to an initial state. We do this by using the `.reset()` method. "
   ]
  },
  {
   "cell_type": "code",
   "execution_count": 7,
   "metadata": {
    "deletable": false,
    "editable": false
   },
   "outputs": [],
   "source": [
    "# Reset the environment and get the initial state.\n",
    "initial_state = env.reset()"
   ]
  },
  {
   "cell_type": "markdown",
   "metadata": {},
   "source": [
    "Once the environment is reset, the agent can start taking actions in the environment by using the `.step()` method. Note that the agent can only take one action per time step. \n",
    "\n",
    "In the cell below you can select different actions and see how the returned values change depending on the action taken. Remember that in this environment the agent has four discrete actions available and we specify them in code by using their corresponding numerical value:\n",
    "\n",
    "```python\n",
    "Do nothing = 0\n",
    "Fire right engine = 1\n",
    "Fire main engine = 2\n",
    "Fire left engine = 3\n",
    "```"
   ]
  },
  {
   "cell_type": "code",
   "execution_count": 13,
   "metadata": {
    "deletable": false
   },
   "outputs": [
    {
     "data": {
      "text/html": [
       "<table class=\"simpletable\">\n",
       "<tr>\n",
       "  <th>Initial State:</th>      <td>[0.002 1.422 0.194 0.506 -0.002 -0.044 0.000 0.000]</td>\n",
       "</tr>\n",
       "<tr>\n",
       "  <th>Action:</th>                              <td>Fire left engine</td>                  \n",
       "</tr>\n",
       "<tr>\n",
       "  <th>Next State:</th>         <td>[0.013 1.482 0.199 0.390 -0.003 -0.019 0.000 0.000]</td>\n",
       "</tr>\n",
       "<tr>\n",
       "  <th>Reward Received:</th>                           <td>0.836</td>                       \n",
       "</tr>\n",
       "<tr>\n",
       "  <th>Episode Terminated:</th>                        <td>False</td>                       \n",
       "</tr>\n",
       "</table>"
      ],
      "text/plain": [
       "<class 'statsmodels.iolib.table.SimpleTable'>"
      ]
     },
     "execution_count": 13,
     "metadata": {},
     "output_type": "execute_result"
    }
   ],
   "source": [
    "# Select an action\n",
    "action = 3\n",
    "\n",
    "# Run a single time step of the environment's dynamics with the given action.\n",
    "next_state, reward, done, _ = env.step(action)\n",
    "\n",
    "# Display table with values. All values are displayed to 3 decimal places.\n",
    "utils.display_table(initial_state, action, next_state, reward, done)"
   ]
  },
  {
   "cell_type": "markdown",
   "metadata": {},
   "source": [
    "In practice, when we train the agent we use a loop to allow the agent to take many consecutive actions during an episode."
   ]
  },
  {
   "cell_type": "markdown",
   "metadata": {},
   "source": [
    "<a name=\"6\"></a>\n",
    "## 6 - Deep Q-Learning\n",
    "\n",
    "In cases where both the state and action space are discrete we can estimate the action-value function iteratively by using the Bellman equation:\n",
    "\n",
    "$$\n",
    "Q_{i+1}(s,a) = R + \\gamma \\max_{a'}Q_i(s',a')\n",
    "$$\n",
    "\n",
    "This iterative method converges to the optimal action-value function $Q^*(s,a)$ as $i\\to\\infty$. This means that the agent just needs to gradually explore the state-action space and keep updating the estimate of $Q(s,a)$ until it converges to the optimal action-value function $Q^*(s,a)$. However, in cases where the state space is continuous it becomes practically impossible to explore the entire state-action space. Consequently, this also makes it practically impossible to gradually estimate $Q(s,a)$ until it converges to $Q^*(s,a)$.\n",
    "\n",
    "In the Deep $Q$-Learning, we solve this problem by using a neural network to estimate the action-value function $Q(s,a)\\approx Q^*(s,a)$. We call this neural network a $Q$-Network and it can be trained by adjusting its weights at each iteration to minimize the mean-squared error in the Bellman equation.\n",
    "\n",
    "Unfortunately, using neural networks in reinforcement learning to estimate action-value functions has proven to be highly unstable. Luckily, there's a couple of techniques that can be employed to avoid instabilities. These techniques consist of using a ***Target Network*** and ***Experience Replay***. We will explore these two techniques in the following sections."
   ]
  },
  {
   "cell_type": "markdown",
   "metadata": {},
   "source": [
    "<a name=\"6.1\"></a>\n",
    "### 6.1 Target Network\n",
    "\n",
    "We can train the $Q$-Network by adjusting it's weights at each iteration to minimize the mean-squared error in the Bellman equation, where the target values are given by:\n",
    "\n",
    "$$\n",
    "y = R + \\gamma \\max_{a'}Q(s',a';w)\n",
    "$$\n",
    "\n",
    "where $w$ are the weights of the $Q$-Network. This means that we are adjusting the weights $w$ at each iteration to minimize the following error:\n",
    "\n",
    "$$\n",
    "\\overbrace{\\underbrace{R + \\gamma \\max_{a'}Q(s',a'; w)}_{\\rm {y~target}} - Q(s,a;w)}^{\\rm {Error}}\n",
    "$$\n",
    "\n",
    "Notice that this forms a problem because the $y$ target is changing on every iteration. Having a constantly moving target can lead to oscillations and instabilities. To avoid this, we can create\n",
    "a separate neural network for generating the $y$ targets. We call this separate neural network the **target $\\hat Q$-Network** and it will have the same architecture as the original $Q$-Network. By using the target $\\hat Q$-Network, the above error becomes:\n",
    "\n",
    "$$\n",
    "\\overbrace{\\underbrace{R + \\gamma \\max_{a'}\\hat{Q}(s',a'; w^-)}_{\\rm {y~target}} - Q(s,a;w)}^{\\rm {Error}}\n",
    "$$\n",
    "\n",
    "where $w^-$ and $w$ are the weights of the target $\\hat Q$-Network and $Q$-Network, respectively.\n",
    "\n",
    "In practice, we will use the following algorithm: every $C$ time steps we will use the $\\hat Q$-Network to generate the $y$ targets and update the weights of the target $\\hat Q$-Network using the weights of the $Q$-Network. We will update the weights $w^-$ of the the target $\\hat Q$-Network using a **soft update**. This means that we will update the weights $w^-$ using the following rule:\n",
    " \n",
    "$$\n",
    "w^-\\leftarrow \\tau w + (1 - \\tau) w^-\n",
    "$$\n",
    "\n",
    "where $\\tau\\ll 1$. By using the soft update, we are ensuring that the target values, $y$, change slowly, which greatly improves the stability of our learning algorithm."
   ]
  },
  {
   "cell_type": "markdown",
   "metadata": {},
   "source": [
    "<a name=\"ex01\"></a>\n",
    "### Exercise 1\n",
    "\n",
    "In this exercise you will create the $Q$ and target $\\hat Q$ networks and set the optimizer. Remember that the Deep $Q$-Network (DQN) is a neural network that approximates the action-value function $Q(s,a)\\approx Q^*(s,a)$. It does this by learning how to map states to $Q$ values.\n",
    "\n",
    "To solve the Lunar Lander environment, we are going to employ a DQN with the following architecture:\n",
    "\n",
    "* An `Input` layer that takes `state_size` as input.\n",
    "\n",
    "* A `Dense` layer with `64` units and a `relu` activation function.\n",
    "\n",
    "* A `Dense` layer with `64` units and a `relu` activation function.\n",
    "\n",
    "* A `Dense` layer with `num_actions` units and a `linear` activation function. This will be the output layer of our network.\n",
    "\n",
    "\n",
    "In the cell below you should create the $Q$-Network and the target $\\hat Q$-Network using the model architecture described above. Remember that both the $Q$-Network and the target $\\hat Q$-Network have the same architecture.\n",
    "\n",
    "Lastly, you should set `Adam` as the optimizer with a learning rate equal to `ALPHA`. Recall that `ALPHA` was defined in the [Hyperparameters](#2) section. We should note that for this exercise you should use the already imported packages:\n",
    "```python\n",
    "from tensorflow.keras.layers import Dense, Input\n",
    "from tensorflow.keras.optimizers import Adam\n",
    "```"
   ]
  },
  {
   "cell_type": "code",
   "execution_count": 19,
   "metadata": {
    "deletable": false
   },
   "outputs": [],
   "source": [
    "# UNQ_C1\n",
    "# GRADED CELL\n",
    "\n",
    "# Create the Q-Network\n",
    "q_network = Sequential([\n",
    "    ### START CODE HERE ### \n",
    "    Input(shape=state_size), \n",
    "    Dense(64, activation='relu'),\n",
    "    Dense(64, activation='relu'),\n",
    "    Dense(num_actions, activation='linear')\n",
    "    ### END CODE HERE ### \n",
    "    ])\n",
    "\n",
    "# Create the target Q^-Network\n",
    "target_q_network = Sequential([\n",
    "    ### START CODE HERE ### \n",
    "    Input(shape=state_size), \n",
    "    Dense(64, activation='relu'),\n",
    "    Dense(64, activation='relu'),\n",
    "    Dense(num_actions, activation='linear')\n",
    "    ### END CODE HERE ###\n",
    "    ])\n",
    "\n",
    "### START CODE HERE ### \n",
    "optimizer = tf.keras.optimizers.Adam(learning_rate=ALPHA)\n",
    "### END CODE HERE ###"
   ]
  },
  {
   "cell_type": "code",
   "execution_count": 20,
   "metadata": {
    "deletable": false,
    "editable": false
   },
   "outputs": [
    {
     "name": "stdout",
     "output_type": "stream",
     "text": [
      "\u001b[92mAll tests passed!\n",
      "\u001b[92mAll tests passed!\n",
      "\u001b[92mAll tests passed!\n"
     ]
    }
   ],
   "source": [
    "# UNIT TEST\n",
    "from public_tests import *\n",
    "\n",
    "test_network(q_network)\n",
    "test_network(target_q_network)\n",
    "test_optimizer(optimizer, ALPHA) "
   ]
  },
  {
   "cell_type": "markdown",
   "metadata": {},
   "source": [
    "<details>\n",
    "  <summary><font size=\"3\" color=\"darkgreen\"><b>Click for hints</b></font></summary>\n",
    "    \n",
    "```python\n",
    "# Create the Q-Network\n",
    "q_network = Sequential([\n",
    "    Input(shape=state_size),                      \n",
    "    Dense(units=64, activation='relu'),            \n",
    "    Dense(units=64, activation='relu'),            \n",
    "    Dense(units=num_actions, activation='linear'),\n",
    "    ])\n",
    "\n",
    "# Create the target Q^-Network\n",
    "target_q_network = Sequential([\n",
    "    Input(shape=state_size),                       \n",
    "    Dense(units=64, activation='relu'),            \n",
    "    Dense(units=64, activation='relu'),            \n",
    "    Dense(units=num_actions, activation='linear'), \n",
    "    ])\n",
    "\n",
    "optimizer = Adam(learning_rate=ALPHA)                                  \n",
    "``` "
   ]
  },
  {
   "cell_type": "markdown",
   "metadata": {},
   "source": [
    "<a name=\"6.2\"></a>\n",
    "### 6.2 Experience Replay\n",
    "\n",
    "When an agent interacts with the environment, the states, actions, and rewards the agent experiences are sequential by nature. If the agent tries to learn from these consecutive experiences it can run into problems due to the strong correlations between them. To avoid this, we employ a technique known as **Experience Replay** to generate uncorrelated experiences for training our agent. Experience replay consists of storing the agent's experiences (i.e the states, actions, and rewards the agent receives) in a memory buffer and then sampling a random mini-batch of experiences from the buffer to do the learning. The experience tuples $(S_t, A_t, R_t, S_{t+1})$ will be added to the memory buffer at each time step as the agent interacts with the environment.\n",
    "\n",
    "For convenience, we will store the experiences as named tuples."
   ]
  },
  {
   "cell_type": "code",
   "execution_count": 21,
   "metadata": {
    "deletable": false,
    "editable": false
   },
   "outputs": [],
   "source": [
    "# Store experiences as named tuples\n",
    "experience = namedtuple(\"Experience\", field_names=[\"state\", \"action\", \"reward\", \"next_state\", \"done\"])"
   ]
  },
  {
   "cell_type": "markdown",
   "metadata": {},
   "source": [
    "By using experience replay we avoid problematic correlations, oscillations and instabilities. In addition, experience replay also allows the agent to potentially use the same experience in multiple weight updates, which increases data efficiency."
   ]
  },
  {
   "cell_type": "markdown",
   "metadata": {},
   "source": [
    "<a name=\"7\"></a>\n",
    "## 7 - Deep Q-Learning Algorithm with Experience Replay\n",
    "\n",
    "Now that we know all the techniques that we are going to use, we can put them together to arrive at the Deep Q-Learning Algorithm With Experience Replay.\n",
    "<br>\n",
    "<br>\n",
    "<figure>\n",
    "  <img src = \"images/deep_q_algorithm.png\" width = 90% style = \"border: thin silver solid; padding: 0px\">\n",
    "      <figcaption style = \"text-align: center; font-style: italic\">Fig 3. Deep Q-Learning with Experience Replay.</figcaption>\n",
    "</figure>"
   ]
  },
  {
   "cell_type": "markdown",
   "metadata": {},
   "source": [
    "<a name=\"ex02\"></a>\n",
    "### Exercise 2\n",
    "\n",
    "In this exercise you will implement line ***12*** of the algorithm outlined in *Fig 3* above and you will also compute the loss between the $y$ targets and the $Q(s,a)$ values. In the cell below, complete the `compute_loss` function by setting the $y$ targets equal to:\n",
    "\n",
    "$$\n",
    "\\begin{equation}\n",
    "    y_j =\n",
    "    \\begin{cases}\n",
    "      R_j & \\text{if episode terminates at step  } j+1\\\\\n",
    "      R_j + \\gamma \\max_{a'}\\hat{Q}(s_{j+1},a') & \\text{otherwise}\\\\\n",
    "    \\end{cases}       \n",
    "\\end{equation}\n",
    "$$\n",
    "\n",
    "Here are a couple of things to note:\n",
    "\n",
    "* The `compute_loss` function takes in a mini-batch of experience tuples. This mini-batch of experience tuples is unpacked to extract the `states`, `actions`, `rewards`, `next_states`, and `done_vals`. You should keep in mind that these variables are *TensorFlow Tensors* whose size will depend on the mini-batch size. For example, if the mini-batch size is `64` then both `rewards` and `done_vals` will be TensorFlow Tensors with `64` elements.\n",
    "\n",
    "\n",
    "* Using `if/else` statements to set the $y$ targets will not work when the variables are tensors with many elements. However, notice that you can use the `done_vals` to implement the above in a single line of code. To do this, recall that the `done` variable is a Boolean variable that takes the value `True` when an episode terminates at step $j+1$ and it is `False` otherwise. Taking into account that a Boolean value of `True` has the numerical value of `1` and a Boolean value of `False` has the numerical value of `0`, you can use the factor `(1 - done_vals)` to implement the above in a single line of code. Here's a hint: notice that `(1 - done_vals)` has a value of `0` when `done_vals` is `True` and a value of `1` when `done_vals` is `False`. \n",
    "\n",
    "Lastly, compute the loss by calculating the Mean-Squared Error (`MSE`) between the `y_targets` and the `q_values`. To calculate the mean-squared error you should use the already imported package `MSE`:\n",
    "```python\n",
    "from tensorflow.keras.losses import MSE\n",
    "```"
   ]
  },
  {
   "cell_type": "code",
   "execution_count": 22,
   "metadata": {
    "deletable": false
   },
   "outputs": [],
   "source": [
    "# UNQ_C2\n",
    "# GRADED FUNCTION: calculate_loss\n",
    "\n",
    "def compute_loss(experiences, gamma, q_network, target_q_network):\n",
    "    \"\"\" \n",
    "    Calculates the loss.\n",
    "    \n",
    "    Args:\n",
    "      experiences: (tuple) tuple of [\"state\", \"action\", \"reward\", \"next_state\", \"done\"] namedtuples\n",
    "      gamma: (float) The discount factor.\n",
    "      q_network: (tf.keras.Sequential) Keras model for predicting the q_values\n",
    "      target_q_network: (tf.keras.Sequential) Keras model for predicting the targets\n",
    "          \n",
    "    Returns:\n",
    "      loss: (TensorFlow Tensor(shape=(0,), dtype=int32)) the Mean-Squared Error between\n",
    "            the y targets and the Q(s,a) values.\n",
    "    \"\"\"\n",
    "\n",
    "    # Unpack the mini-batch of experience tuples\n",
    "    states, actions, rewards, next_states, done_vals = experiences\n",
    "    \n",
    "    # Compute max Q^(s,a)\n",
    "    max_qsa = tf.reduce_max(target_q_network(next_states), axis=-1)\n",
    "    \n",
    "    # Set y = R if episode terminates, otherwise set y = R + γ max Q^(s,a).\n",
    "    ### START CODE HERE ### \n",
    "    y_targets = rewards + (gamma * max_qsa * (1 - done_vals))\n",
    "    ### END CODE HERE ###\n",
    "    \n",
    "    # Get the q_values and reshape to match y_targets\n",
    "    q_values = q_network(states)\n",
    "    q_values = tf.gather_nd(q_values, tf.stack([tf.range(q_values.shape[0]),\n",
    "                                                tf.cast(actions, tf.int32)], axis=1))\n",
    "        \n",
    "    # Compute the loss\n",
    "    ### START CODE HERE ### \n",
    "    loss = MSE(y_targets, q_values) \n",
    "    ### END CODE HERE ### \n",
    "    \n",
    "    return loss"
   ]
  },
  {
   "cell_type": "code",
   "execution_count": 23,
   "metadata": {
    "deletable": false,
    "editable": false
   },
   "outputs": [
    {
     "name": "stdout",
     "output_type": "stream",
     "text": [
      "\u001b[92mAll tests passed!\n"
     ]
    }
   ],
   "source": [
    "# UNIT TEST    \n",
    "test_compute_loss(compute_loss)"
   ]
  },
  {
   "cell_type": "markdown",
   "metadata": {},
   "source": [
    "<details>\n",
    "  <summary><font size=\"3\" color=\"darkgreen\"><b>Click for hints</b></font></summary>\n",
    "    \n",
    "```python\n",
    "def compute_loss(experiences, gamma, q_network, target_q_network):\n",
    "    \"\"\" \n",
    "    Calculates the loss.\n",
    "    \n",
    "    Args:\n",
    "      experiences: (tuple) tuple of [\"state\", \"action\", \"reward\", \"next_state\", \"done\"] namedtuples\n",
    "      gamma: (float) The discount factor.\n",
    "      q_network: (tf.keras.Sequential) Keras model for predicting the q_values\n",
    "      target_q_network: (tf.keras.Sequential) Keras model for predicting the targets\n",
    "          \n",
    "    Returns:\n",
    "      loss: (TensorFlow Tensor(shape=(0,), dtype=int32)) the Mean-Squared Error between\n",
    "            the y targets and the Q(s,a) values.\n",
    "    \"\"\"\n",
    "\n",
    "    \n",
    "    # Unpack the mini-batch of experience tuples\n",
    "    states, actions, rewards, next_states, done_vals = experiences\n",
    "    \n",
    "    # Compute max Q^(s,a)\n",
    "    max_qsa = tf.reduce_max(target_q_network(next_states), axis=-1)\n",
    "    \n",
    "    # Set y = R if episode terminates, otherwise set y = R + γ max Q^(s,a).\n",
    "    y_targets = rewards + (gamma * max_qsa * (1 - done_vals))\n",
    "    \n",
    "    # Get the q_values\n",
    "    q_values = q_network(states)\n",
    "    q_values = tf.gather_nd(q_values, tf.stack([tf.range(q_values.shape[0]),\n",
    "                                                tf.cast(actions, tf.int32)], axis=1))\n",
    "    \n",
    "    # Calculate the loss\n",
    "    loss = MSE(y_targets, q_values)\n",
    "    \n",
    "    return loss\n",
    "\n",
    "``` \n",
    "    "
   ]
  },
  {
   "cell_type": "markdown",
   "metadata": {},
   "source": [
    "<a name=\"8\"></a>\n",
    "## 8 - Update the Network Weights\n",
    "\n",
    "We will use the `agent_learn` function below to implement lines ***12 -14*** of the algorithm outlined in [Fig 3](#7). The `agent_learn` function will update the weights of the $Q$ and target $\\hat Q$ networks using a custom training loop. Because we are using a custom training loop we need to retrieve the gradients via a `tf.GradientTape` instance, and then call `optimizer.apply_gradients()` to update the weights of our $Q$-Network. Note that we are also using the `@tf.function` decorator to increase performance. Without this decorator our training will take twice as long. If you would like to know more about how to increase performance with `@tf.function` take a look at the [TensorFlow documentation](https://www.tensorflow.org/guide/function).\n",
    "\n",
    "The last line of this function updates the weights of the target $\\hat Q$-Network using a [soft update](#6.1). If you want to know how this is implemented in code we encourage you to take a look at the `utils.update_target_network` function in the `utils` module."
   ]
  },
  {
   "cell_type": "code",
   "execution_count": 24,
   "metadata": {
    "deletable": false,
    "editable": false
   },
   "outputs": [],
   "source": [
    "@tf.function\n",
    "def agent_learn(experiences, gamma):\n",
    "    \"\"\"\n",
    "    Updates the weights of the Q networks.\n",
    "    \n",
    "    Args:\n",
    "      experiences: (tuple) tuple of [\"state\", \"action\", \"reward\", \"next_state\", \"done\"] namedtuples\n",
    "      gamma: (float) The discount factor.\n",
    "    \n",
    "    \"\"\"\n",
    "    \n",
    "    # Calculate the loss\n",
    "    with tf.GradientTape() as tape:\n",
    "        loss = compute_loss(experiences, gamma, q_network, target_q_network)\n",
    "\n",
    "    # Get the gradients of the loss with respect to the weights.\n",
    "    gradients = tape.gradient(loss, q_network.trainable_variables)\n",
    "    \n",
    "    # Update the weights of the q_network.\n",
    "    optimizer.apply_gradients(zip(gradients, q_network.trainable_variables))\n",
    "\n",
    "    # update the weights of target q_network\n",
    "    utils.update_target_network(q_network, target_q_network)"
   ]
  },
  {
   "cell_type": "markdown",
   "metadata": {},
   "source": [
    "<a name=\"9\"></a>\n",
    "## 9 - Train the Agent\n",
    "\n",
    "We are now ready to train our agent to solve the Lunar Lander environment. In the cell below we will implement the algorithm in [Fig 3](#7) line by line (please note that we have included the same algorithm below for easy reference. This will prevent you from scrolling up and down the notebook):\n",
    "\n",
    "* **Line 1**: We initialize the `memory_buffer` with a capacity of $N =$ `MEMORY_SIZE`. Notice that we are using a `deque` as the data structure for our `memory_buffer`.\n",
    "\n",
    "\n",
    "* **Line 2**: We skip this line since we already initialized the `q_network` in [Exercise 1](#ex01).\n",
    "\n",
    "\n",
    "* **Line 3**: We initialize the `target_q_network` by setting its weights to be equal to those of the `q_network`.\n",
    "\n",
    "\n",
    "* **Line 4**: We start the outer loop. Notice that we have set $M =$ `num_episodes = 2000`. This number is reasonable because the agent should be able to solve the Lunar Lander environment in less than `2000` episodes using this notebook's default parameters.\n",
    "\n",
    "\n",
    "* **Line 5**: We use the `.reset()` method to reset the environment to the initial state and get the initial state.\n",
    "\n",
    "\n",
    "* **Line 6**: We start the inner loop. Notice that we have set $T =$ `max_num_timesteps = 1000`. This means that the episode will automatically terminate if the episode hasn't terminated after `1000` time steps.\n",
    "\n",
    "\n",
    "* **Line 7**: The agent observes the current `state` and chooses an `action` using an $\\epsilon$-greedy policy. Our agent starts out using a value of $\\epsilon =$ `epsilon = 1` which yields an $\\epsilon$-greedy policy that is equivalent to the equiprobable random policy. This means that at the beginning of our training, the agent is just going to take random actions regardless of the observed `state`. As training progresses we will decrease the value of $\\epsilon$ slowly towards a minimum value using a given $\\epsilon$-decay rate. We want this minimum value to be close to zero because a value of $\\epsilon = 0$ will yield an $\\epsilon$-greedy policy that is equivalent to the greedy policy. This means that towards the end of training, the agent will lean towards selecting the `action` that it believes (based on its past experiences) will maximize $Q(s,a)$. We will set the minimum $\\epsilon$ value to be `0.01` and not exactly 0 because we always want to keep a little bit of exploration during training. If you want to know how this is implemented in code we encourage you to take a look at the `utils.get_action` function in the `utils` module.\n",
    "\n",
    "\n",
    "* **Line 8**: We use the `.step()` method to take the given `action` in the environment and get the `reward` and the `next_state`. \n",
    "\n",
    "\n",
    "* **Line 9**: We store the `experience(state, action, reward, next_state, done)` tuple in our `memory_buffer`. Notice that we also store the `done` variable so that we can keep track of when an episode terminates. This allowed us to set the $y$ targets in [Exercise 2](#ex02).\n",
    "\n",
    "\n",
    "* **Line 10**: We check if the conditions are met to perform a learning update. We do this by using our custom `utils.check_update_conditions` function. This function checks if $C =$ `NUM_STEPS_FOR_UPDATE = 4` time steps have occured and if our `memory_buffer` has enough experience tuples to fill a mini-batch. For example, if the mini-batch size is `64`, then our `memory_buffer` should have more than `64` experience tuples in order to pass the latter condition. If the conditions are met, then the `utils.check_update_conditions` function will return a value of `True`, otherwise it will return a value of `False`.\n",
    "\n",
    "\n",
    "* **Lines 11 - 14**: If the `update` variable is `True` then we perform a learning update. The learning update consists of sampling a random mini-batch of experience tuples from our `memory_buffer`, setting the $y$ targets, performing gradient descent, and updating the weights of the networks. We will use the `agent_learn` function we defined in [Section 8](#8) to perform the latter 3.\n",
    "\n",
    "\n",
    "* **Line 15**: At the end of each iteration of the inner loop we set `next_state` as our new `state` so that the loop can start again from this new state. In addition, we check if the episode has reached a terminal state (i.e we check if `done = True`). If a terminal state has been reached, then we break out of the inner loop.\n",
    "\n",
    "\n",
    "* **Line 16**: At the end of each iteration of the outer loop we update the value of $\\epsilon$, and check if the environment has been solved. We consider that the environment has been solved if the agent receives an average of `200` points in the last `100` episodes. If the environment has not been solved we continue the outer loop and start a new episode.\n",
    "\n",
    "Finally, we wanted to note that we have included some extra variables to keep track of the total number of points the agent received in each episode. This will help us determine if the agent has solved the environment and it will also allow us to see how our agent performed during training. We also use the `time` module to measure how long the training takes. \n",
    "\n",
    "<br>\n",
    "<br>\n",
    "<figure>\n",
    "  <img src = \"images/deep_q_algorithm.png\" width = 90% style = \"border: thin silver solid; padding: 0px\">\n",
    "      <figcaption style = \"text-align: center; font-style: italic\">Fig 4. Deep Q-Learning with Experience Replay.</figcaption>\n",
    "</figure>\n",
    "<br>\n",
    "\n",
    "**Note:** With this notebook's default parameters, the following cell takes between 10 to 15 minutes to run. "
   ]
  },
  {
   "cell_type": "code",
   "execution_count": 25,
   "metadata": {
    "deletable": false,
    "editable": false
   },
   "outputs": [
    {
     "name": "stdout",
     "output_type": "stream",
     "text": [
      "Episode 100 | Total point average of the last 100 episodes: -144.14\n",
      "Episode 200 | Total point average of the last 100 episodes: -128.38\n",
      "Episode 300 | Total point average of the last 100 episodes: -54.074\n",
      "Episode 400 | Total point average of the last 100 episodes: -47.10\n",
      "Episode 500 | Total point average of the last 100 episodes: 9.3850\n",
      "Episode 600 | Total point average of the last 100 episodes: 126.20\n",
      "Episode 666 | Total point average of the last 100 episodes: 201.64\n",
      "\n",
      "Environment solved in 666 episodes!\n",
      "\n",
      "Total Runtime: 875.17 s (14.59 min)\n"
     ]
    }
   ],
   "source": [
    "start = time.time()\n",
    "\n",
    "num_episodes = 2000\n",
    "max_num_timesteps = 1000\n",
    "\n",
    "total_point_history = []\n",
    "\n",
    "num_p_av = 100    # number of total points to use for averaging\n",
    "epsilon = 1.0     # initial ε value for ε-greedy policy\n",
    "\n",
    "# Create a memory buffer D with capacity N\n",
    "memory_buffer = deque(maxlen=MEMORY_SIZE)\n",
    "\n",
    "# Set the target network weights equal to the Q-Network weights\n",
    "target_q_network.set_weights(q_network.get_weights())\n",
    "\n",
    "for i in range(num_episodes):\n",
    "    \n",
    "    # Reset the environment to the initial state and get the initial state\n",
    "    state = env.reset()\n",
    "    total_points = 0\n",
    "    \n",
    "    for t in range(max_num_timesteps):\n",
    "        \n",
    "        # From the current state S choose an action A using an ε-greedy policy\n",
    "        state_qn = np.expand_dims(state, axis=0)  # state needs to be the right shape for the q_network\n",
    "        q_values = q_network(state_qn)\n",
    "        action = utils.get_action(q_values, epsilon)\n",
    "        \n",
    "        # Take action A and receive reward R and the next state S'\n",
    "        next_state, reward, done, _ = env.step(action)\n",
    "        \n",
    "        # Store experience tuple (S,A,R,S') in the memory buffer.\n",
    "        # We store the done variable as well for convenience.\n",
    "        memory_buffer.append(experience(state, action, reward, next_state, done))\n",
    "        \n",
    "        # Only update the network every NUM_STEPS_FOR_UPDATE time steps.\n",
    "        update = utils.check_update_conditions(t, NUM_STEPS_FOR_UPDATE, memory_buffer)\n",
    "        \n",
    "        if update:\n",
    "            # Sample random mini-batch of experience tuples (S,A,R,S') from D\n",
    "            experiences = utils.get_experiences(memory_buffer)\n",
    "            \n",
    "            # Set the y targets, perform a gradient descent step,\n",
    "            # and update the network weights.\n",
    "            agent_learn(experiences, GAMMA)\n",
    "        \n",
    "        state = next_state.copy()\n",
    "        total_points += reward\n",
    "        \n",
    "        if done:\n",
    "            break\n",
    "            \n",
    "    total_point_history.append(total_points)\n",
    "    av_latest_points = np.mean(total_point_history[-num_p_av:])\n",
    "    \n",
    "    # Update the ε value\n",
    "    epsilon = utils.get_new_eps(epsilon)\n",
    "\n",
    "    print(f\"\\rEpisode {i+1} | Total point average of the last {num_p_av} episodes: {av_latest_points:.2f}\", end=\"\")\n",
    "\n",
    "    if (i+1) % num_p_av == 0:\n",
    "        print(f\"\\rEpisode {i+1} | Total point average of the last {num_p_av} episodes: {av_latest_points:.2f}\")\n",
    "\n",
    "    # We will consider that the environment is solved if we get an\n",
    "    # average of 200 points in the last 100 episodes.\n",
    "    if av_latest_points >= 200.0:\n",
    "        print(f\"\\n\\nEnvironment solved in {i+1} episodes!\")\n",
    "        q_network.save('lunar_lander_model.h5')\n",
    "        break\n",
    "        \n",
    "tot_time = time.time() - start\n",
    "\n",
    "print(f\"\\nTotal Runtime: {tot_time:.2f} s ({(tot_time/60):.2f} min)\")"
   ]
  },
  {
   "cell_type": "markdown",
   "metadata": {},
   "source": [
    "We can plot the total point history along with the moving average to see how our agent improved during training. If you want to know about the different plotting options available in the `utils.plot_history` function we encourage you to take a look at the `utils` module."
   ]
  },
  {
   "cell_type": "code",
   "execution_count": 26,
   "metadata": {
    "deletable": false,
    "editable": false,
    "id": "E_EUXxurfe8m",
    "scrolled": false
   },
   "outputs": [
    {
     "data": {
      "image/png": "[encoded data removed]",
      "text/plain": [
       "<Figure size 720x504 with 1 Axes>"
      ]
     },
     "metadata": {},
     "output_type": "display_data"
    }
   ],
   "source": [
    "# Plot the total point history along with the moving average\n",
    "utils.plot_history(total_point_history)"
   ]
  },
  {
   "cell_type": "markdown",
   "metadata": {
    "id": "c_xwgaX5MnYt"
   },
   "source": [
    "<a name=\"10\"></a>\n",
    "## 10 - See the Trained Agent In Action\n",
    "\n",
    "Now that we have trained our agent, we can see it in action. We will use the `utils.create_video` function to create a video of our agent interacting with the environment using the trained $Q$-Network. The `utils.create_video` function uses the `imageio` library to create the video. This library produces some warnings that can be distracting, so, to suppress these warnings we run the code below."
   ]
  },
  {
   "cell_type": "code",
   "execution_count": 27,
   "metadata": {
    "deletable": false,
    "editable": false
   },
   "outputs": [],
   "source": [
    "# Suppress warnings from imageio\n",
    "import logging\n",
    "logging.getLogger().setLevel(logging.ERROR)"
   ]
  },
  {
   "cell_type": "markdown",
   "metadata": {},
   "source": [
    "In the cell below we create a video of our agent interacting with the Lunar Lander environment using the trained `q_network`. The video is saved to the `videos` folder with the given `filename`. We use the `utils.embed_mp4` function to embed the video in the Jupyter Notebook so that we can see it here directly without having to download it.\n",
    "\n",
    "We should note that since the lunar lander starts with a random initial force applied to its center of mass, every time you run the cell below you will see a different video. If the agent was trained properly, it should be able to land the lunar lander in the landing pad every time, regardless of the initial force applied to its center of mass."
   ]
  },
  {
   "cell_type": "code",
   "execution_count": 28,
   "metadata": {
    "deletable": false,
    "editable": false,
    "id": "3Ttb_zLeJKiG"
   },
   "outputs": [
    {
     "data": {
      "text/html": [
       "\n",
       "    <video width=\"840\" height=\"480\" controls>\n",
       "    <source src=\"data:video/mp4;base64,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\" type=\"video/mp4\">\n",
       "    Your browser does not support the video tag.\n",
       "    </video>"
      ],
      "text/plain": [
       "<IPython.core.display.HTML object>"
      ]
     },
     "execution_count": 28,
     "metadata": {},
     "output_type": "execute_result"
    }
   ],
   "source": [
    "filename = \"./videos/lunar_lander.mp4\"\n",
    "\n",
    "utils.create_video(filename, env, q_network)\n",
    "utils.embed_mp4(filename)"
   ]
  },
  {
   "cell_type": "markdown",
   "metadata": {},
   "source": [
    "<a name=\"11\"></a>\n",
    "## 11 - Congratulations!\n",
    "\n",
    "You have successfully used Deep Q-Learning with Experience Replay to train an agent to land a lunar lander safely on a landing pad on the surface of the moon. Congratulations!"
   ]
  },
  {
   "cell_type": "markdown",
   "metadata": {},
   "source": [
    "<a name=\"12\"></a>\n",
    "## 12 - References\n",
    "\n",
    "If you would like to learn more about Deep Q-Learning, we recommend you check out the following papers.\n",
    "\n",
    "\n",
    "* Mnih, V., Kavukcuoglu, K., Silver, D. et al. Human-level control through deep reinforcement learning. Nature 518, 529–533 (2015).\n",
    "\n",
    "\n",
    "* Lillicrap, T. P., Hunt, J. J., Pritzel, A., et al. Continuous Control with Deep Reinforcement Learning. ICLR (2016).\n",
    "\n",
    "\n",
    "* Mnih, V., Kavukcuoglu, K., Silver, D. et al. Playing Atari with Deep Reinforcement Learning. arXiv e-prints.  arXiv:1312.5602 (2013)."
   ]
  },
  {
   "cell_type": "markdown",
   "metadata": {},
   "source": [
    "<details>\n",
    "  <summary><font size=\"2\" color=\"darkgreen\"><b>Please click here if you want to experiment with any of the non-graded code.</b></font></summary>\n",
    "    <p><i><b>Important Note: Please only do this when you've already passed the assignment to avoid problems with the autograder.</b></i>\n",
    "    <ol>\n",
    "        <li> On the notebook’s menu, click “View” > “Cell Toolbar” > “Edit Metadata”</li>\n",
    "        <li> Hit the “Edit Metadata” button next to the code cell which you want to lock/unlock</li>\n",
    "        <li> Set the attribute value for “editable” to:\n",
    "            <ul>\n",
    "                <li> “true” if you want to unlock it </li>\n",
    "                <li> “false” if you want to lock it </li>\n",
    "            </ul>\n",
    "        </li>\n",
    "        <li> On the notebook’s menu, click “View” > “Cell Toolbar” > “None” </li>\n",
    "    </ol>\n",
    "    <p> Here's a short demo of how to do the steps above: \n",
    "        <br>\n",
    "        <img src=\"https://drive.google.com/uc?export=view&id=14Xy_Mb17CZVgzVAgq7NCjMVBvSae3xO1\" align=\"center\" alt=\"unlock_cells.gif\">\n",
    "</details>"
   ]
  }
 ],
 "metadata": {
  "accelerator": "GPU",
  "colab": {
   "collapsed_sections": [],
   "name": "TensorFlow - Lunar Lander.ipynb",
   "provenance": []
  },
  "kernelspec": {
   "display_name": "Python 3",
   "language": "python",
   "name": "python3"
  },
  "language_info": {
   "codemirror_mode": {
    "name": "ipython",
    "version": 3
   },
   "file_extension": ".py",
   "mimetype": "text/x-python",
   "name": "python",
   "nbconvert_exporter": "python",
   "pygments_lexer": "ipython3",
   "version": "3.7.6"
  }
 },
 "nbformat": 4,
 "nbformat_minor": 1
}
